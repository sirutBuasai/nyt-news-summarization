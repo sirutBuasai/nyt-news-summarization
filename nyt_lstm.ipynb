{
  "cells": [
    {
      "cell_type": "markdown",
      "metadata": {
        "id": "HvoGHJJvOyAe"
      },
      "source": [
        "# New York Times News Summarization\n",
        "Sirut Buasai, sbausai2@wpi.edu <br>\n",
        "Jason Dykstra, jpdykstra@wpi.edu <br>\n",
        "Adam Yang ayang@wpi.edu\n",
        "## Libraries"
      ]
    },
    {
      "cell_type": "code",
      "execution_count": 27,
      "metadata": {
        "_cell_guid": "b1076dfc-b9ad-4769-8c92-a6c4dae69d19",
        "_uuid": "8f2839f25d086af736a60e9eeb907d3b93b6e0e5",
        "id": "emBF0izoOyAo",
        "trusted": true
      },
      "outputs": [
        {
          "name": "stderr",
          "output_type": "stream",
          "text": [
            "[nltk_data] Downloading package stopwords to\n",
            "[nltk_data]     /Users/sirutbuasai/nltk_data...\n",
            "[nltk_data]   Package stopwords is already up-to-date!\n",
            "[nltk_data] Downloading package averaged_perceptron_tagger to\n",
            "[nltk_data]     /Users/sirutbuasai/nltk_data...\n",
            "[nltk_data]   Package averaged_perceptron_tagger is already up-to-\n",
            "[nltk_data]       date!\n"
          ]
        }
      ],
      "source": [
        "# Data Processing\n",
        "import matplotlib.pyplot as plt\n",
        "import numpy as np\n",
        "import pandas as pd\n",
        "from sklearn.model_selection import train_test_split\n",
        "import os\n",
        "import csv\n",
        "\n",
        "# Text Processing\n",
        "import nltk\n",
        "import re\n",
        "import spacy\n",
        "from nltk.corpus import stopwords\n",
        "from nltk import pos_tag_sents\n",
        "\n",
        "# Model Building\n",
        "import tensorflow as tf\n",
        "from keras.utils import pad_sequences\n",
        "from keras.preprocessing.text import Tokenizer\n",
        "\n",
        "# Metrics\n",
        "from sacrebleu import sentence_bleu\n",
        "from rouge import Rouge\n",
        "\n",
        "# Google Colab\n",
        "# from google.colab import drive, files\n",
        "# drive.mount('/content/gdrive')\n",
        "\n",
        "# Downloads\n",
        "nltk.download('stopwords')\n",
        "nltk.download('averaged_perceptron_tagger')\n",
        "NER = spacy.load(\"en_core_web_sm\")"
      ]
    },
    {
      "cell_type": "markdown",
      "metadata": {
        "id": "B73993JWevBU"
      },
      "source": [
        "## Global Variables"
      ]
    },
    {
      "cell_type": "code",
      "execution_count": 28,
      "metadata": {
        "id": "ntkhyPUaevBU"
      },
      "outputs": [],
      "source": [
        "MAX_ABSTRACT_LEN = 30\n",
        "MAX_TITLE_LEN = 12\n",
        "LATENT_DIMENSION = 300 \n",
        "EMBEDDING_DIMENSION = 100 \n",
        "EPOCH = 10\n",
        "BATCH_SIZE = 128\n",
        "DATA_SET_RATIO = 0.8\n",
        "MODEL_CONDITION = \"cleaned_abstract\""
      ]
    },
    {
      "cell_type": "markdown",
      "metadata": {
        "id": "wEs_PaTROyAs"
      },
      "source": [
        "## Data Pre-processing\n",
        "### Initial Data Inspection"
      ]
    },
    {
      "cell_type": "code",
      "execution_count": 29,
      "metadata": {
        "id": "zEDTd5yNOyAu"
      },
      "outputs": [
        {
          "name": "stdout",
          "output_type": "stream",
          "text": [
            "dataframe shape: (106, 7)\n"
          ]
        },
        {
          "data": {
            "text/html": [
              "<div>\n",
              "<style scoped>\n",
              "    .dataframe tbody tr th:only-of-type {\n",
              "        vertical-align: middle;\n",
              "    }\n",
              "\n",
              "    .dataframe tbody tr th {\n",
              "        vertical-align: top;\n",
              "    }\n",
              "\n",
              "    .dataframe thead th {\n",
              "        text-align: right;\n",
              "    }\n",
              "</style>\n",
              "<table border=\"1\" class=\"dataframe\">\n",
              "  <thead>\n",
              "    <tr style=\"text-align: right;\">\n",
              "      <th></th>\n",
              "      <th>Unnamed: 0</th>\n",
              "      <th>ID</th>\n",
              "      <th>title</th>\n",
              "      <th>topic</th>\n",
              "      <th>abstract</th>\n",
              "      <th>Date</th>\n",
              "      <th>keywords</th>\n",
              "    </tr>\n",
              "  </thead>\n",
              "  <tbody>\n",
              "    <tr>\n",
              "      <th>0</th>\n",
              "      <td>0</td>\n",
              "      <td>nyt://article/178801fe-4679-5f12-985f-8344a86e...</td>\n",
              "      <td>In Reversal, Pakistan Welcomes Outside Help Wi...</td>\n",
              "      <td>Foreign</td>\n",
              "      <td>Pakistan’s ambassador to the U.S. said his gov...</td>\n",
              "      <td>2008-01-01 05:00:00+00:00</td>\n",
              "      <td>['Assassinations and Attempted Assassinations'...</td>\n",
              "    </tr>\n",
              "    <tr>\n",
              "      <th>1</th>\n",
              "      <td>1</td>\n",
              "      <td>nyt://article/21acedcb-a7f6-5131-99cf-d3a47e33...</td>\n",
              "      <td>Fighting Intensifies After Election in Kenya</td>\n",
              "      <td>Foreign</td>\n",
              "      <td>Kenya sank deeper into trouble, with a curfew ...</td>\n",
              "      <td>2008-01-01 05:00:00+00:00</td>\n",
              "      <td>['Kenya', 'Demonstrations and Riots', 'Odinga,...</td>\n",
              "    </tr>\n",
              "    <tr>\n",
              "      <th>2</th>\n",
              "      <td>2</td>\n",
              "      <td>nyt://article/357b5429-a9f8-5d33-a5eb-c013a201...</td>\n",
              "      <td>Israel: Olmert Curbs Settlements</td>\n",
              "      <td>Foreign</td>\n",
              "      <td>Prime Minister Ehud Olmert has sent a letter t...</td>\n",
              "      <td>2008-01-01 05:00:00+00:00</td>\n",
              "      <td>['West Bank']</td>\n",
              "    </tr>\n",
              "    <tr>\n",
              "      <th>3</th>\n",
              "      <td>3</td>\n",
              "      <td>nyt://article/619ca4ea-50e4-59e4-97bb-f206502c...</td>\n",
              "      <td>Gay Muslims Pack a Dance Floor of Their Own</td>\n",
              "      <td>Foreign</td>\n",
              "      <td>The monthly club night known as Gayhane is an ...</td>\n",
              "      <td>2008-01-01 05:00:00+00:00</td>\n",
              "      <td>['Homosexuality', 'Islam', 'IMMIGRATION AND RE...</td>\n",
              "    </tr>\n",
              "    <tr>\n",
              "      <th>4</th>\n",
              "      <td>4</td>\n",
              "      <td>nyt://article/73c49a5a-bcf1-5b8f-a15a-98d29003...</td>\n",
              "      <td>Iraqi Revelers Embrace the New Year</td>\n",
              "      <td>Foreign</td>\n",
              "      <td>But even as partygoers embraced the New Year, ...</td>\n",
              "      <td>2008-01-01 05:00:00+00:00</td>\n",
              "      <td>['ARMAMENT, DEFENSE AND MILITARY FORCES', 'Iraq']</td>\n",
              "    </tr>\n",
              "    <tr>\n",
              "      <th>...</th>\n",
              "      <td>...</td>\n",
              "      <td>...</td>\n",
              "      <td>...</td>\n",
              "      <td>...</td>\n",
              "      <td>...</td>\n",
              "      <td>...</td>\n",
              "      <td>...</td>\n",
              "    </tr>\n",
              "    <tr>\n",
              "      <th>101</th>\n",
              "      <td>101</td>\n",
              "      <td>nyt://slideshow/dbf99825-09fb-5f03-bb04-da2d02...</td>\n",
              "      <td>Mortgages and Women</td>\n",
              "      <td>U.S.</td>\n",
              "      <td>The focus of conversation at hair salons in Ba...</td>\n",
              "      <td>2008-01-08 08:39:00+00:00</td>\n",
              "      <td>['Mortgages', 'Baltimore (Md)']</td>\n",
              "    </tr>\n",
              "    <tr>\n",
              "      <th>102</th>\n",
              "      <td>102</td>\n",
              "      <td>nyt://slideshow/4b7032f0-8c1a-5895-9654-c2ff26...</td>\n",
              "      <td>Voting in New Hampshire</td>\n",
              "      <td>U.S.</td>\n",
              "      <td>Primary voters streamed to the polls in New Ha...</td>\n",
              "      <td>2008-01-08 17:45:01+00:00</td>\n",
              "      <td>['Presidential Election of 2008', 'PRIMARIES',...</td>\n",
              "    </tr>\n",
              "    <tr>\n",
              "      <th>103</th>\n",
              "      <td>103</td>\n",
              "      <td>nyt://article/077f5a51-d939-58e0-8074-ea9974d1...</td>\n",
              "      <td>At Gaza’s Edge, Israelis Fear Rockets’ Whine</td>\n",
              "      <td>Foreign</td>\n",
              "      <td>Sderot, Israel, a working-class town less than...</td>\n",
              "      <td>2008-01-09 05:00:00+00:00</td>\n",
              "      <td>['Palestinians', 'Israel', 'Gaza Strip', 'Bomb...</td>\n",
              "    </tr>\n",
              "    <tr>\n",
              "      <th>104</th>\n",
              "      <td>104</td>\n",
              "      <td>nyt://article/09196e5e-98d3-5070-a235-c005b505...</td>\n",
              "      <td>Jean-Claude Vrinat, Owner of Famed Paris Resta...</td>\n",
              "      <td>Foreign</td>\n",
              "      <td>For more than three decades, Mr. Vrinat was th...</td>\n",
              "      <td>2008-01-09 05:00:00+00:00</td>\n",
              "      <td>['Restaurants', 'France', 'Taillevent', 'Death...</td>\n",
              "    </tr>\n",
              "    <tr>\n",
              "      <th>105</th>\n",
              "      <td>105</td>\n",
              "      <td>nyt://article/0a88b90c-3fc1-5379-a206-918172a4...</td>\n",
              "      <td>Mideast Leaders Agree to Core Talks</td>\n",
              "      <td>Foreign</td>\n",
              "      <td>The Israeli and Palestinian leaders authorized...</td>\n",
              "      <td>2008-01-09 05:00:00+00:00</td>\n",
              "      <td>['Lebanon', 'Palestinians', 'Israel', 'Bush, G...</td>\n",
              "    </tr>\n",
              "  </tbody>\n",
              "</table>\n",
              "<p>106 rows × 7 columns</p>\n",
              "</div>"
            ],
            "text/plain": [
              "     Unnamed: 0                                                 ID  \\\n",
              "0             0  nyt://article/178801fe-4679-5f12-985f-8344a86e...   \n",
              "1             1  nyt://article/21acedcb-a7f6-5131-99cf-d3a47e33...   \n",
              "2             2  nyt://article/357b5429-a9f8-5d33-a5eb-c013a201...   \n",
              "3             3  nyt://article/619ca4ea-50e4-59e4-97bb-f206502c...   \n",
              "4             4  nyt://article/73c49a5a-bcf1-5b8f-a15a-98d29003...   \n",
              "..          ...                                                ...   \n",
              "101         101  nyt://slideshow/dbf99825-09fb-5f03-bb04-da2d02...   \n",
              "102         102  nyt://slideshow/4b7032f0-8c1a-5895-9654-c2ff26...   \n",
              "103         103  nyt://article/077f5a51-d939-58e0-8074-ea9974d1...   \n",
              "104         104  nyt://article/09196e5e-98d3-5070-a235-c005b505...   \n",
              "105         105  nyt://article/0a88b90c-3fc1-5379-a206-918172a4...   \n",
              "\n",
              "                                                 title    topic  \\\n",
              "0    In Reversal, Pakistan Welcomes Outside Help Wi...  Foreign   \n",
              "1         Fighting Intensifies After Election in Kenya  Foreign   \n",
              "2                     Israel: Olmert Curbs Settlements  Foreign   \n",
              "3          Gay Muslims Pack a Dance Floor of Their Own  Foreign   \n",
              "4                  Iraqi Revelers Embrace the New Year  Foreign   \n",
              "..                                                 ...      ...   \n",
              "101                                Mortgages and Women     U.S.   \n",
              "102                            Voting in New Hampshire     U.S.   \n",
              "103       At Gaza’s Edge, Israelis Fear Rockets’ Whine  Foreign   \n",
              "104  Jean-Claude Vrinat, Owner of Famed Paris Resta...  Foreign   \n",
              "105                Mideast Leaders Agree to Core Talks  Foreign   \n",
              "\n",
              "                                              abstract  \\\n",
              "0    Pakistan’s ambassador to the U.S. said his gov...   \n",
              "1    Kenya sank deeper into trouble, with a curfew ...   \n",
              "2    Prime Minister Ehud Olmert has sent a letter t...   \n",
              "3    The monthly club night known as Gayhane is an ...   \n",
              "4    But even as partygoers embraced the New Year, ...   \n",
              "..                                                 ...   \n",
              "101  The focus of conversation at hair salons in Ba...   \n",
              "102  Primary voters streamed to the polls in New Ha...   \n",
              "103  Sderot, Israel, a working-class town less than...   \n",
              "104  For more than three decades, Mr. Vrinat was th...   \n",
              "105  The Israeli and Palestinian leaders authorized...   \n",
              "\n",
              "                          Date  \\\n",
              "0    2008-01-01 05:00:00+00:00   \n",
              "1    2008-01-01 05:00:00+00:00   \n",
              "2    2008-01-01 05:00:00+00:00   \n",
              "3    2008-01-01 05:00:00+00:00   \n",
              "4    2008-01-01 05:00:00+00:00   \n",
              "..                         ...   \n",
              "101  2008-01-08 08:39:00+00:00   \n",
              "102  2008-01-08 17:45:01+00:00   \n",
              "103  2008-01-09 05:00:00+00:00   \n",
              "104  2008-01-09 05:00:00+00:00   \n",
              "105  2008-01-09 05:00:00+00:00   \n",
              "\n",
              "                                              keywords  \n",
              "0    ['Assassinations and Attempted Assassinations'...  \n",
              "1    ['Kenya', 'Demonstrations and Riots', 'Odinga,...  \n",
              "2                                        ['West Bank']  \n",
              "3    ['Homosexuality', 'Islam', 'IMMIGRATION AND RE...  \n",
              "4    ['ARMAMENT, DEFENSE AND MILITARY FORCES', 'Iraq']  \n",
              "..                                                 ...  \n",
              "101                    ['Mortgages', 'Baltimore (Md)']  \n",
              "102  ['Presidential Election of 2008', 'PRIMARIES',...  \n",
              "103  ['Palestinians', 'Israel', 'Gaza Strip', 'Bomb...  \n",
              "104  ['Restaurants', 'France', 'Taillevent', 'Death...  \n",
              "105  ['Lebanon', 'Palestinians', 'Israel', 'Bush, G...  \n",
              "\n",
              "[106 rows x 7 columns]"
            ]
          },
          "execution_count": 29,
          "metadata": {},
          "output_type": "execute_result"
        }
      ],
      "source": [
        "# download and make initial inspection of the dataset\n",
        "# raw_data_path = '/content/gdrive/My Drive/Fourth Year/Natural Language Processing/Final Project/NYT_Dataset.csv'\n",
        "raw_data_path = 'NYT_Dataset.csv'\n",
        "raw_data = pd.read_csv(raw_data_path)\n",
        "raw_data = raw_data[:int(DATA_SET_RATIO*len(raw_data))]\n",
        "print(f'dataframe shape: {raw_data.shape}')\n",
        "raw_data"
      ]
    },
    {
      "cell_type": "markdown",
      "metadata": {
        "id": "yP0xgBIqOyAv"
      },
      "source": [
        "### Clean Data\n",
        "#### Part of Speech Processing Function"
      ]
    },
    {
      "cell_type": "code",
      "execution_count": 30,
      "metadata": {
        "id": "lt2rCg-K7bn-"
      },
      "outputs": [],
      "source": [
        "# Parts-of-Speech processing to filter and keep certain POS words\n",
        "def pos_processing(abstract_sentences):\n",
        "  # split the sentence into tokens\n",
        "  abstract_tokens = pd.Series(abstract_sentences.apply(lambda sentence: sentence.split()))\n",
        "\n",
        "  # identify parts-of-speech; pos_tag requires list of tokens\n",
        "  abstract_pos = pd.Series(pos_tag_sents(abstract_tokens))\n",
        "\n",
        "  # filter non-desirable parts-of-speech\n",
        "  nounsList = ['NN', 'NNS', 'NNP', 'NNPS'] # Nouns\n",
        "  verbsList = ['VB', 'VBD', 'VBG', 'VBN', 'VBP', 'VPZ'] # Verbs\n",
        "  adjList = ['JJ', 'JJR', 'JJS'] # Adjectives\n",
        "  pos_list = nounsList + verbsList + adjList\n",
        "  abstract_pos_filtered = abstract_pos.apply(lambda words: ' '.join([pair[0] for pair in words if pair[1] in pos_list]))\n",
        "\n",
        "  return abstract_pos_filtered"
      ]
    },
    {
      "cell_type": "markdown",
      "metadata": {
        "id": "mRRQSO8eevBY"
      },
      "source": [
        "#### NER Processing Function"
      ]
    },
    {
      "cell_type": "code",
      "execution_count": 31,
      "metadata": {
        "id": "8eN1mcbw8rbj"
      },
      "outputs": [],
      "source": [
        "# NER function to identify and embed NER tags\n",
        "def ner_processing(abstract_sentences):\n",
        "  # identify entities for each abstract\n",
        "  abs_entities = pd.Series(abstract_sentences.apply(lambda sentence: NER(sentence)))\n",
        "\n",
        "  # extract the original sentences, but now with split contractions and the entity type from NER\n",
        "  original_sentence = pd.Series(abs_entities.apply(lambda entities: ' '.join([f\"{token.orth_}<{token.ent_type_}>\" if token.ent_type_ else f\"{token.orth_}\" for token in entities])))\n",
        "\n",
        "  return original_sentence"
      ]
    },
    {
      "cell_type": "markdown",
      "metadata": {
        "id": "PPpI_mowevBZ"
      },
      "source": [
        "#### Clean Text Function"
      ]
    },
    {
      "cell_type": "code",
      "execution_count": 32,
      "metadata": {
        "_cell_guid": "79c7e3d0-c299-4dcb-8224-4455121ee9b0",
        "_uuid": "d629ff2d2480ee46fbb7e2d37f6b5fab8052498a",
        "id": "dvJXzEeFOyAw",
        "trusted": true
      },
      "outputs": [
        {
          "data": {
            "text/html": [
              "<div>\n",
              "<style scoped>\n",
              "    .dataframe tbody tr th:only-of-type {\n",
              "        vertical-align: middle;\n",
              "    }\n",
              "\n",
              "    .dataframe tbody tr th {\n",
              "        vertical-align: top;\n",
              "    }\n",
              "\n",
              "    .dataframe thead th {\n",
              "        text-align: right;\n",
              "    }\n",
              "</style>\n",
              "<table border=\"1\" class=\"dataframe\">\n",
              "  <thead>\n",
              "    <tr style=\"text-align: right;\">\n",
              "      <th></th>\n",
              "      <th>title</th>\n",
              "      <th>abstract</th>\n",
              "      <th>cleaned_title</th>\n",
              "      <th>cleaned_abstract</th>\n",
              "      <th>cleaned_abstract_pos</th>\n",
              "      <th>cleaned_abstract_pos_keywords</th>\n",
              "      <th>cleaned_abstract_pos_ner</th>\n",
              "      <th>cleaned_abstract_pos_keywords_ner</th>\n",
              "    </tr>\n",
              "  </thead>\n",
              "  <tbody>\n",
              "    <tr>\n",
              "      <th>0</th>\n",
              "      <td>in reversal, pakistan welcomes outside help wi...</td>\n",
              "      <td>pakistan’s ambassador to the u.s. said his gov...</td>\n",
              "      <td>sostok reversal pakistan&lt;GPE&gt; welcomes outside...</td>\n",
              "      <td>pakistans ambassador us said government would ...</td>\n",
              "      <td>pakistans ambassador said government endorse s...</td>\n",
              "      <td>pakistans ambassador said government endorse s...</td>\n",
              "      <td>pakistans&lt;NORP&gt; ambassador said government end...</td>\n",
              "      <td>pakistans&lt;NORP&gt; ambassador said government end...</td>\n",
              "    </tr>\n",
              "    <tr>\n",
              "      <th>1</th>\n",
              "      <td>fighting intensifies after election in kenya</td>\n",
              "      <td>kenya sank deeper into trouble, with a curfew ...</td>\n",
              "      <td>sostok fighting intensifies election kenya&lt;GPE...</td>\n",
              "      <td>kenya sank deeper trouble curfew imposed kisum...</td>\n",
              "      <td>kenya sank trouble curfew imposed kisumu count...</td>\n",
              "      <td>kenya sank trouble curfew imposed kisumu count...</td>\n",
              "      <td>kenya&lt;PERSON&gt; sank trouble curfew imposed kisu...</td>\n",
              "      <td>kenya&lt;PERSON&gt; sank trouble curfew imposed kisu...</td>\n",
              "    </tr>\n",
              "    <tr>\n",
              "      <th>2</th>\n",
              "      <td>israel: olmert curbs settlements</td>\n",
              "      <td>prime minister ehud olmert has sent a letter t...</td>\n",
              "      <td>sostok israel&lt;GPE&gt; olmert&lt;PERSON&gt; curbs settle...</td>\n",
              "      <td>prime minister ehud olmert sent letter defense...</td>\n",
              "      <td>prime minister ehud olmert sent letter defense...</td>\n",
              "      <td>prime minister ehud olmert sent letter defense...</td>\n",
              "      <td>prime minister ehud&lt;PERSON&gt; olmert&lt;PERSON&gt; sen...</td>\n",
              "      <td>prime minister ehud&lt;PERSON&gt; olmert&lt;PERSON&gt; sen...</td>\n",
              "    </tr>\n",
              "    <tr>\n",
              "      <th>3</th>\n",
              "      <td>gay muslims pack a dance floor of their own</td>\n",
              "      <td>the monthly club night known as gayhane is an ...</td>\n",
              "      <td>sostok gay muslims&lt;NORP&gt; pack dance floor eostok</td>\n",
              "      <td>monthly club night known gayhane alltoorare op...</td>\n",
              "      <td>club night known gayhane alltoorare opportunit...</td>\n",
              "      <td>club night known gayhane alltoorare opportunit...</td>\n",
              "      <td>club night known gayhane alltoorare opportunit...</td>\n",
              "      <td>club night known gayhane alltoorare opportunit...</td>\n",
              "    </tr>\n",
              "    <tr>\n",
              "      <th>4</th>\n",
              "      <td>iraqi revelers embrace the new year</td>\n",
              "      <td>but even as partygoers embraced the new year, ...</td>\n",
              "      <td>sostok iraqi&lt;NORP&gt; revelers embrace new&lt;DATE&gt; ...</td>\n",
              "      <td>even partygoers embraced new year surge attack...</td>\n",
              "      <td>partygoers embraced new year surge attacks mon...</td>\n",
              "      <td>partygoers embraced new year surge attacks mon...</td>\n",
              "      <td>partygoers embraced new year&lt;DATE&gt; surge attac...</td>\n",
              "      <td>partygoers embraced new year&lt;DATE&gt; surge attac...</td>\n",
              "    </tr>\n",
              "    <tr>\n",
              "      <th>...</th>\n",
              "      <td>...</td>\n",
              "      <td>...</td>\n",
              "      <td>...</td>\n",
              "      <td>...</td>\n",
              "      <td>...</td>\n",
              "      <td>...</td>\n",
              "      <td>...</td>\n",
              "      <td>...</td>\n",
              "    </tr>\n",
              "    <tr>\n",
              "      <th>101</th>\n",
              "      <td>mortgages and women</td>\n",
              "      <td>the focus of conversation at hair salons in ba...</td>\n",
              "      <td>sostok mortgages women eostok</td>\n",
              "      <td>focus conversation hair salons baltimore turne...</td>\n",
              "      <td>focus conversation hair salons baltimore turne...</td>\n",
              "      <td>focus conversation hair salons baltimore turne...</td>\n",
              "      <td>focus conversation hair salons baltimore turne...</td>\n",
              "      <td>focus conversation hair salons baltimore turne...</td>\n",
              "    </tr>\n",
              "    <tr>\n",
              "      <th>102</th>\n",
              "      <td>voting in new hampshire</td>\n",
              "      <td>primary voters streamed to the polls in new ha...</td>\n",
              "      <td>sostok voting new hampshire eostok</td>\n",
              "      <td>primary voters streamed polls new hampshire el...</td>\n",
              "      <td>primary voters streamed polls new hampshire el...</td>\n",
              "      <td>primary voters streamed polls new hampshire el...</td>\n",
              "      <td>primary voters streamed polls new hampshire el...</td>\n",
              "      <td>primary voters streamed polls new hampshire el...</td>\n",
              "    </tr>\n",
              "    <tr>\n",
              "      <th>103</th>\n",
              "      <td>at gaza’s edge, israelis fear rockets’ whine</td>\n",
              "      <td>sderot, israel, a working-class town less than...</td>\n",
              "      <td>sostok gazas&lt;PERSON&gt; edge&lt;PERSON&gt; israelis&lt;NOR...</td>\n",
              "      <td>sderot israel workingclass town less two miles...</td>\n",
              "      <td>sderot israel workingclass town miles hit rockets</td>\n",
              "      <td>sderot israel workingclass town miles hit rock...</td>\n",
              "      <td>sderot israel&lt;GPE&gt; workingclass town miles hit...</td>\n",
              "      <td>sderot israel&lt;GPE&gt; workingclass town miles hit...</td>\n",
              "    </tr>\n",
              "    <tr>\n",
              "      <th>104</th>\n",
              "      <td>jean-claude vrinat, owner of famed paris resta...</td>\n",
              "      <td>for more than three decades, mr. vrinat was th...</td>\n",
              "      <td>sostok jeanclaude&lt;PERSON&gt; vrinat&lt;PERSON&gt; owner...</td>\n",
              "      <td>three decades mr vrinat owner taillevent resta...</td>\n",
              "      <td>decades mr vrinat owner taillevent restaurant ...</td>\n",
              "      <td>decades mr vrinat owner taillevent restaurant ...</td>\n",
              "      <td>decades&lt;DATE&gt; mr vrinat owner taillevent resta...</td>\n",
              "      <td>decades&lt;DATE&gt; mr vrinat owner taillevent resta...</td>\n",
              "    </tr>\n",
              "    <tr>\n",
              "      <th>105</th>\n",
              "      <td>mideast leaders agree to core talks</td>\n",
              "      <td>the israeli and palestinian leaders authorized...</td>\n",
              "      <td>sostok mideast&lt;LOC&gt; leaders agree core talks e...</td>\n",
              "      <td>israeli palestinian leaders authorized start n...</td>\n",
              "      <td>israeli palestinian leaders authorized start n...</td>\n",
              "      <td>israeli palestinian leaders authorized start n...</td>\n",
              "      <td>israeli&lt;NORP&gt; palestinian&lt;NORP&gt; leaders author...</td>\n",
              "      <td>israeli&lt;NORP&gt; palestinian&lt;NORP&gt; leaders author...</td>\n",
              "    </tr>\n",
              "  </tbody>\n",
              "</table>\n",
              "<p>106 rows × 8 columns</p>\n",
              "</div>"
            ],
            "text/plain": [
              "                                                 title  \\\n",
              "0    in reversal, pakistan welcomes outside help wi...   \n",
              "1         fighting intensifies after election in kenya   \n",
              "2                     israel: olmert curbs settlements   \n",
              "3          gay muslims pack a dance floor of their own   \n",
              "4                  iraqi revelers embrace the new year   \n",
              "..                                                 ...   \n",
              "101                                mortgages and women   \n",
              "102                            voting in new hampshire   \n",
              "103       at gaza’s edge, israelis fear rockets’ whine   \n",
              "104  jean-claude vrinat, owner of famed paris resta...   \n",
              "105                mideast leaders agree to core talks   \n",
              "\n",
              "                                              abstract  \\\n",
              "0    pakistan’s ambassador to the u.s. said his gov...   \n",
              "1    kenya sank deeper into trouble, with a curfew ...   \n",
              "2    prime minister ehud olmert has sent a letter t...   \n",
              "3    the monthly club night known as gayhane is an ...   \n",
              "4    but even as partygoers embraced the new year, ...   \n",
              "..                                                 ...   \n",
              "101  the focus of conversation at hair salons in ba...   \n",
              "102  primary voters streamed to the polls in new ha...   \n",
              "103  sderot, israel, a working-class town less than...   \n",
              "104  for more than three decades, mr. vrinat was th...   \n",
              "105  the israeli and palestinian leaders authorized...   \n",
              "\n",
              "                                         cleaned_title  \\\n",
              "0    sostok reversal pakistan<GPE> welcomes outside...   \n",
              "1    sostok fighting intensifies election kenya<GPE...   \n",
              "2    sostok israel<GPE> olmert<PERSON> curbs settle...   \n",
              "3     sostok gay muslims<NORP> pack dance floor eostok   \n",
              "4    sostok iraqi<NORP> revelers embrace new<DATE> ...   \n",
              "..                                                 ...   \n",
              "101                      sostok mortgages women eostok   \n",
              "102                 sostok voting new hampshire eostok   \n",
              "103  sostok gazas<PERSON> edge<PERSON> israelis<NOR...   \n",
              "104  sostok jeanclaude<PERSON> vrinat<PERSON> owner...   \n",
              "105  sostok mideast<LOC> leaders agree core talks e...   \n",
              "\n",
              "                                      cleaned_abstract  \\\n",
              "0    pakistans ambassador us said government would ...   \n",
              "1    kenya sank deeper trouble curfew imposed kisum...   \n",
              "2    prime minister ehud olmert sent letter defense...   \n",
              "3    monthly club night known gayhane alltoorare op...   \n",
              "4    even partygoers embraced new year surge attack...   \n",
              "..                                                 ...   \n",
              "101  focus conversation hair salons baltimore turne...   \n",
              "102  primary voters streamed polls new hampshire el...   \n",
              "103  sderot israel workingclass town less two miles...   \n",
              "104  three decades mr vrinat owner taillevent resta...   \n",
              "105  israeli palestinian leaders authorized start n...   \n",
              "\n",
              "                                  cleaned_abstract_pos  \\\n",
              "0    pakistans ambassador said government endorse s...   \n",
              "1    kenya sank trouble curfew imposed kisumu count...   \n",
              "2    prime minister ehud olmert sent letter defense...   \n",
              "3    club night known gayhane alltoorare opportunit...   \n",
              "4    partygoers embraced new year surge attacks mon...   \n",
              "..                                                 ...   \n",
              "101  focus conversation hair salons baltimore turne...   \n",
              "102  primary voters streamed polls new hampshire el...   \n",
              "103  sderot israel workingclass town miles hit rockets   \n",
              "104  decades mr vrinat owner taillevent restaurant ...   \n",
              "105  israeli palestinian leaders authorized start n...   \n",
              "\n",
              "                         cleaned_abstract_pos_keywords  \\\n",
              "0    pakistans ambassador said government endorse s...   \n",
              "1    kenya sank trouble curfew imposed kisumu count...   \n",
              "2    prime minister ehud olmert sent letter defense...   \n",
              "3    club night known gayhane alltoorare opportunit...   \n",
              "4    partygoers embraced new year surge attacks mon...   \n",
              "..                                                 ...   \n",
              "101  focus conversation hair salons baltimore turne...   \n",
              "102  primary voters streamed polls new hampshire el...   \n",
              "103  sderot israel workingclass town miles hit rock...   \n",
              "104  decades mr vrinat owner taillevent restaurant ...   \n",
              "105  israeli palestinian leaders authorized start n...   \n",
              "\n",
              "                              cleaned_abstract_pos_ner  \\\n",
              "0    pakistans<NORP> ambassador said government end...   \n",
              "1    kenya<PERSON> sank trouble curfew imposed kisu...   \n",
              "2    prime minister ehud<PERSON> olmert<PERSON> sen...   \n",
              "3    club night known gayhane alltoorare opportunit...   \n",
              "4    partygoers embraced new year<DATE> surge attac...   \n",
              "..                                                 ...   \n",
              "101  focus conversation hair salons baltimore turne...   \n",
              "102  primary voters streamed polls new hampshire el...   \n",
              "103  sderot israel<GPE> workingclass town miles hit...   \n",
              "104  decades<DATE> mr vrinat owner taillevent resta...   \n",
              "105  israeli<NORP> palestinian<NORP> leaders author...   \n",
              "\n",
              "                     cleaned_abstract_pos_keywords_ner  \n",
              "0    pakistans<NORP> ambassador said government end...  \n",
              "1    kenya<PERSON> sank trouble curfew imposed kisu...  \n",
              "2    prime minister ehud<PERSON> olmert<PERSON> sen...  \n",
              "3    club night known gayhane alltoorare opportunit...  \n",
              "4    partygoers embraced new year<DATE> surge attac...  \n",
              "..                                                 ...  \n",
              "101  focus conversation hair salons baltimore turne...  \n",
              "102  primary voters streamed polls new hampshire el...  \n",
              "103  sderot israel<GPE> workingclass town miles hit...  \n",
              "104  decades<DATE> mr vrinat owner taillevent resta...  \n",
              "105  israeli<NORP> palestinian<NORP> leaders author...  \n",
              "\n",
              "[106 rows x 8 columns]"
            ]
          },
          "execution_count": 32,
          "metadata": {},
          "output_type": "execute_result"
        }
      ],
      "source": [
        "# Main preprocessing function\n",
        "def preprocess_data(df):\n",
        "  # drop unnecessary columns\n",
        "  unused_columns = ['Unnamed: 0', 'Date', 'ID']\n",
        "  df.drop(unused_columns, axis=1, inplace=True, errors='ignore')\n",
        "\n",
        "  # drop duplicates and nan rows\n",
        "  df.drop_duplicates(subset=['abstract'], inplace=True)\n",
        "  df.reset_index(drop=True, inplace=True)\n",
        "  df.dropna(axis=0, inplace=True)\n",
        "  df.reset_index(drop=True, inplace=True)\n",
        "\n",
        "  # convert texts to lowercase\n",
        "  df['abstract'] = df['abstract'].str.lower()\n",
        "  df['title'] = df['title'].str.lower()\n",
        "  df['keywords'] = df['keywords'].str.lower()\n",
        "  df['topic'] = df['topic'].str.lower()\n",
        "\n",
        "  # strip special characters\n",
        "  df['cleaned_title'] = df['title'].apply(lambda text: re.sub(\"[^a-zA-Z0-9 ]+\", '', text))\n",
        "  df['cleaned_abstract'] = df['abstract'].apply(lambda text: re.sub(\"[^a-zA-Z0-9 ]+\", '', text))\n",
        "  df['cleaned_keywords'] = df['keywords'].apply(lambda text: re.sub(\"[^a-zA-Z0-9 ]+\", '', text))\n",
        "  df['cleaned_topic'] = df['topic'].apply(lambda text: re.sub(\"[^a-zA-Z0-9 ]+\", '', text))\n",
        "\n",
        "  # add keywords and topics\n",
        "  df['cleaned_keywords'] = df['cleaned_keywords'].apply(lambda sentence: \"\".join(word for word in sentence))\n",
        "  df['cleaned_abstract_keywords'] = df['cleaned_abstract'] + ' ' + df['cleaned_keywords'] + ' ' + df['topic']\n",
        "\n",
        "  # convert string to list\n",
        "  df['cleaned_title'] = df['cleaned_title'].apply(lambda text: text.split())\n",
        "  df['cleaned_abstract'] = df['cleaned_abstract'].apply(lambda text: text.split())\n",
        "  df['cleaned_abstract_keywords'] = df['cleaned_abstract_keywords'].apply(lambda text: text.split())\n",
        "\n",
        "  # remove stopwords\n",
        "  stop_words = stopwords.words('english')\n",
        "  df['cleaned_title'] = df['cleaned_title'].apply(lambda sentence: [word for word in sentence if word not in (stop_words)])\n",
        "  df['cleaned_abstract'] = df['cleaned_abstract'].apply(lambda sentence: [word for word in sentence if word not in (stop_words)])\n",
        "  df['cleaned_abstract_keywords'] = df['cleaned_abstract_keywords'].apply(lambda sentence: [word for word in sentence if word not in (stop_words)])\n",
        "\n",
        "  # convert list back to string\n",
        "  df['cleaned_title'] = df['cleaned_title'].apply(lambda sentence: \" \".join(word for word in sentence))\n",
        "  df['cleaned_abstract'] = df['cleaned_abstract'].apply(lambda sentence: \" \".join(word for word in sentence))\n",
        "  df['cleaned_abstract_keywords'] = df['cleaned_abstract_keywords'].apply(lambda sentence: \" \".join(word for word in sentence))\n",
        "\n",
        "  # filter and keep noun, verbs, and adj words; requires string sentences\n",
        "  df['cleaned_abstract_pos'] = pos_processing(df['cleaned_abstract'])\n",
        "  df['cleaned_abstract_pos_keywords'] = pos_processing(df['cleaned_abstract_keywords'])\n",
        "\n",
        "  # identify named-entities; NER requires string sentences\n",
        "  df['cleaned_title'] = ner_processing(df['cleaned_title'])\n",
        "  df['cleaned_abstract_pos_ner'] = ner_processing(df['cleaned_abstract_pos'])\n",
        "  df['cleaned_abstract_pos_keywords_ner'] = ner_processing(df['cleaned_abstract_pos_keywords'])\n",
        "\n",
        "  # add start and end tokens for title\n",
        "  df['cleaned_title'] = df['cleaned_title'].apply(lambda text: 'sostok ' + text + ' eostok')\n",
        "\n",
        "  # drop unnecessary columns\n",
        "  unnecessary_columns = ['topic', 'keywords', 'cleaned_keywords', 'cleaned_topic', 'cleaned_abstract_keywords']\n",
        "  df.drop(unnecessary_columns, axis=1, inplace=True, errors='ignore')\n",
        "\n",
        "  # important columns are cleaned_title, cleaned_abstract, cleaned_abstract_pos_ner, cleaned_abstract_pos_keywords_ner\n",
        "  return df\n",
        "\n",
        "cleaned_data = preprocess_data(raw_data)\n",
        "\n",
        "# Google Colab code\n",
        "# cleaned_data = pd.read_csv(\"cleaned_data.csv\")\n",
        "# print(f'dataframe shape: {cleaned_data.shape}')\n",
        "\n",
        "# save df to drive\n",
        "# cleaned_data.to_pickle('/content/gdrive/My Drive/Fourth Year/Natural Language Processing/Final Project/NYT_preprocessed.pkl')\n",
        "\n",
        "# load df from drive\n",
        "# cleaned_data = pd.read_pickle('/content/gdrive/My Drive/Fourth Year/Natural Language Processing/Final Project/NYT_preprocessed.pkl')  \n",
        "\n",
        "cleaned_data"
      ]
    },
    {
      "cell_type": "code",
      "execution_count": 33,
      "metadata": {
        "id": "-T3iCuoHz6MA"
      },
      "outputs": [
        {
          "name": "stdout",
          "output_type": "stream",
          "text": [
            "Abstract:\n",
            "\t pakistan’s ambassador to the u.s. said his government would not endorse a separate inquiry modeled after one carried out by the u.n. after the assassination of rafik hariri of lebanon in 2005.\n",
            "Title:\n",
            "\t in reversal, pakistan welcomes outside help with  inquiry on bhutto\n",
            "\n",
            "\n",
            "Cleaned Abstract:\n",
            "\t pakistans ambassador us said government would endorse separate inquiry modeled one carried un assassination rafik hariri lebanon 2005\n",
            "Cleaned Abstract with POS:\n",
            "\t pakistans ambassador said government endorse separate inquiry modeled carried un assassination rafik hariri lebanon\n",
            "Cleaned Abstract with POS and Keywords:\n",
            "\t pakistans ambassador said government endorse separate inquiry modeled carried un assassination rafik hariri lebanon assassinations attempted assassinations pakistan bhutto benazir federal bureau investigation united nations foreign\n",
            "Cleaned Abstract with POS and NER:\n",
            "\t pakistans<NORP> ambassador said government endorse separate inquiry modeled carried un<ORG> assassination rafik hariri lebanon<GPE>\n",
            "Cleaned Abstract with POS and Keywords and NER:\n",
            "\t pakistans<NORP> ambassador said government endorse separate inquiry modeled carried un<ORG> assassination rafik hariri lebanon<GPE> assassinations attempted assassinations pakistan<GPE> bhutto benazir federal<ORG> bureau<ORG> investigation united nations foreign\n",
            "Cleaned Title:\n",
            "\t sostok reversal pakistan<GPE> welcomes outside help inquiry bhutto eostok\n",
            "\n",
            "\n",
            "Abstract:\n",
            "\t kenya sank deeper into trouble, with a curfew imposed in kisumu, the country’s third-largest city, ethnic fighting intensifying and more than 100 people killed in election-related violence.\n",
            "Title:\n",
            "\t fighting intensifies after election in kenya\n",
            "\n",
            "\n",
            "Cleaned Abstract:\n",
            "\t kenya sank deeper trouble curfew imposed kisumu countrys thirdlargest city ethnic fighting intensifying 100 people killed electionrelated violence\n",
            "Cleaned Abstract with POS:\n",
            "\t kenya sank trouble curfew imposed kisumu countrys thirdlargest city ethnic fighting intensifying people killed electionrelated violence\n",
            "Cleaned Abstract with POS and Keywords:\n",
            "\t kenya sank trouble curfew imposed kisumu countrys thirdlargest city ethnic fighting intensifying people killed electionrelated violence kenya demonstrations riots odinga raila kibaki mwai elections foreign\n",
            "Cleaned Abstract with POS and NER:\n",
            "\t kenya<PERSON> sank trouble curfew imposed kisumu countrys thirdlargest city ethnic fighting intensifying people killed electionrelated violence\n",
            "Cleaned Abstract with POS and Keywords and NER:\n",
            "\t kenya<PERSON> sank trouble curfew imposed kisumu countrys thirdlargest city ethnic fighting intensifying people killed electionrelated violence kenya<GPE> demonstrations riots odinga raila<PERSON> kibaki<PERSON> mwai<PERSON> elections foreign\n",
            "Cleaned Title:\n",
            "\t sostok fighting intensifies election kenya<GPE> eostok\n",
            "\n",
            "\n",
            "Abstract:\n",
            "\t prime minister ehud olmert has sent a letter to defense, housing and agriculture ministers, saying that his and the defense minister’s authorization would be required for any new building, planning or land expropriation for jewish settlements in the west bank.\n",
            "Title:\n",
            "\t israel: olmert curbs settlements\n",
            "\n",
            "\n",
            "Cleaned Abstract:\n",
            "\t prime minister ehud olmert sent letter defense housing agriculture ministers saying defense ministers authorization would required new building planning land expropriation jewish settlements west bank\n",
            "Cleaned Abstract with POS:\n",
            "\t prime minister ehud olmert sent letter defense housing agriculture ministers saying defense ministers authorization required new building planning land expropriation jewish settlements west bank\n",
            "Cleaned Abstract with POS and Keywords:\n",
            "\t prime minister ehud olmert sent letter defense housing agriculture ministers saying defense ministers authorization required new building planning land expropriation jewish settlements west bank west bank foreign\n",
            "Cleaned Abstract with POS and NER:\n",
            "\t prime minister ehud<PERSON> olmert<PERSON> sent letter defense housing agriculture ministers saying defense ministers authorization required new building planning land expropriation jewish<NORP> settlements west<GPE> bank<GPE>\n",
            "Cleaned Abstract with POS and Keywords and NER:\n",
            "\t prime minister ehud<PERSON> olmert<PERSON> sent letter defense housing agriculture ministers saying defense ministers authorization required new building planning land expropriation jewish<NORP> settlements west<GPE> bank<GPE> west<GPE> bank<GPE> foreign\n",
            "Cleaned Title:\n",
            "\t sostok israel<GPE> olmert<PERSON> curbs settlements eostok\n",
            "\n",
            "\n",
            "Abstract:\n",
            "\t the monthly club night known as gayhane is an all-too-rare opportunity for gay muslims to merge their immigrant cultures and their sexual identities.\n",
            "Title:\n",
            "\t gay muslims pack a dance floor of their own\n",
            "\n",
            "\n",
            "Cleaned Abstract:\n",
            "\t monthly club night known gayhane alltoorare opportunity gay muslims merge immigrant cultures sexual identities\n",
            "Cleaned Abstract with POS:\n",
            "\t club night known gayhane alltoorare opportunity gay muslims merge immigrant cultures sexual identities\n",
            "Cleaned Abstract with POS and Keywords:\n",
            "\t club night known gayhane alltoorare opportunity gay muslims merge immigrant cultures sexual identities homosexuality islam immigration refugees berlin germany foreign\n",
            "Cleaned Abstract with POS and NER:\n",
            "\t club night known gayhane alltoorare opportunity gay muslims<NORP> merge immigrant cultures sexual identities\n",
            "Cleaned Abstract with POS and Keywords and NER:\n",
            "\t club night known gayhane alltoorare opportunity gay muslims<NORP> merge immigrant cultures sexual identities homosexuality islam immigration refugees berlin<GPE> germany<GPE> foreign\n",
            "Cleaned Title:\n",
            "\t sostok gay muslims<NORP> pack dance floor eostok\n",
            "\n",
            "\n",
            "Abstract:\n",
            "\t but even as partygoers embraced the new year, a surge of attacks on monday served as a potent reminder that 2007 was the bloodiest on record.\n",
            "Title:\n",
            "\t iraqi revelers embrace the new year\n",
            "\n",
            "\n",
            "Cleaned Abstract:\n",
            "\t even partygoers embraced new year surge attacks monday served potent reminder 2007 bloodiest record\n",
            "Cleaned Abstract with POS:\n",
            "\t partygoers embraced new year surge attacks monday served potent reminder bloodiest record\n",
            "Cleaned Abstract with POS and Keywords:\n",
            "\t partygoers embraced new year surge attacks monday served potent reminder bloodiest record armament defense military forces iraq foreign\n",
            "Cleaned Abstract with POS and NER:\n",
            "\t partygoers embraced new year<DATE> surge attacks monday<DATE> served potent reminder bloodiest record\n",
            "Cleaned Abstract with POS and Keywords and NER:\n",
            "\t partygoers embraced new year<DATE> surge attacks monday<DATE> served potent reminder bloodiest record armament defense military forces iraq<GPE> foreign\n",
            "Cleaned Title:\n",
            "\t sostok iraqi<NORP> revelers embrace new<DATE> year<DATE> eostok\n",
            "\n",
            "\n"
          ]
        }
      ],
      "source": [
        "# print first five rows to check results\n",
        "for i in range(5):\n",
        "  print(\"Abstract:\\n\\t\", cleaned_data['abstract'][i])\n",
        "  print(\"Title:\\n\\t\", cleaned_data['title'][i])\n",
        "  print(\"\\n\")\n",
        "  print(\"Cleaned Abstract:\\n\\t\", cleaned_data['cleaned_abstract'][i])\n",
        "  print(\"Cleaned Abstract with POS:\\n\\t\", cleaned_data['cleaned_abstract_pos'][i])\n",
        "  print(\"Cleaned Abstract with POS and Keywords:\\n\\t\", cleaned_data['cleaned_abstract_pos_keywords'][i])\n",
        "  print(\"Cleaned Abstract with POS and NER:\\n\\t\", cleaned_data['cleaned_abstract_pos_ner'][i])\n",
        "  print(\"Cleaned Abstract with POS and Keywords and NER:\\n\\t\", cleaned_data['cleaned_abstract_pos_keywords_ner'][i])\n",
        "  print(\"Cleaned Title:\\n\\t\", cleaned_data['cleaned_title'][i])\n",
        "  print(\"\\n\")"
      ]
    },
    {
      "cell_type": "markdown",
      "metadata": {
        "id": "nUVwq9rjz6MB"
      },
      "source": [
        "### Insepct String Length Distribution"
      ]
    },
    {
      "cell_type": "code",
      "execution_count": 34,
      "metadata": {
        "id": "TR7-xku0z6MC"
      },
      "outputs": [
        {
          "data": {
            "image/png": "[encoded data removed]",
            "text/plain": [
              "<Figure size 640x480 with 2 Axes>"
            ]
          },
          "metadata": {},
          "output_type": "display_data"
        }
      ],
      "source": [
        "abstract_word_count = []\n",
        "title_word_count = []\n",
        "\n",
        "# Convert cleaned_abstract to all strings\n",
        "cleaned_data['cleaned_abstract'] = cleaned_data['cleaned_abstract'].astype(str)\n",
        "cleaned_data['cleaned_abstract_pos'] = cleaned_data['cleaned_abstract_pos'].astype(str)\n",
        "\n",
        "# populate the lists with sentence lengths\n",
        "for i in cleaned_data['cleaned_abstract']:\n",
        "  abstract_word_count.append(len(i.split()))\n",
        "\n",
        "for i in cleaned_data['cleaned_title']:\n",
        "  title_word_count.append(len(i.split()))\n",
        "\n",
        "length_df = pd.DataFrame({'abstract':abstract_word_count, 'title':title_word_count})\n",
        "\n",
        "length_df.hist(bins = 30)\n",
        "plt.show()"
      ]
    },
    {
      "cell_type": "markdown",
      "metadata": {
        "id": "jc7jseOdOyA2"
      },
      "source": [
        "### Split Training and Testing Set"
      ]
    },
    {
      "cell_type": "code",
      "execution_count": 35,
      "metadata": {
        "id": "LRIL1YDyOyA3"
      },
      "outputs": [],
      "source": [
        "# split the dataset into training and testing sets\n",
        "abs_tr, abs_te, ttl_tr, ttl_te = train_test_split(\n",
        "  np.array(cleaned_data[MODEL_CONDITION]),\n",
        "  np.array(cleaned_data['cleaned_title']),\n",
        "  test_size=0.1,\n",
        "  shuffle=True)"
      ]
    },
    {
      "cell_type": "markdown",
      "metadata": {
        "id": "uvUKlvl1OyA4"
      },
      "source": [
        "### Tokenize Title and Abstracts"
      ]
    },
    {
      "cell_type": "code",
      "execution_count": 36,
      "metadata": {
        "id": "q3dOe-5fOyA5"
      },
      "outputs": [],
      "source": [
        "# Function to tokenize the datasets\n",
        "def tokenize_text(train_set, test_set, string_length, rare_word_threshold):\n",
        "  # find the number of rarewords\n",
        "  tokenizer = Tokenizer(filters='!\"#$%&()*+,-./:;=?@[\\\\]^_{|}~\\t\\n') # filters prevent NER tag to be separated\n",
        "  tokenizer.fit_on_texts(list(train_set))\n",
        "  rare_word_count = 0\n",
        "  total_word_count = 0\n",
        "  for _,freq in tokenizer.word_counts.items():\n",
        "    total_word_count = total_word_count + 1\n",
        "    if (freq < rare_word_threshold):\n",
        "      rare_word_count += 1\n",
        "    \n",
        "  # prepare a tokenizer for reviews on training data\n",
        "  tokenizer = Tokenizer(num_words=total_word_count-rare_word_count, filters='!\"#$%&()*+,-./:;=?@[\\\\]^_{|}~\\t\\n') # filters prevent NER tag to be separated\n",
        "  tokenizer.fit_on_texts(list(train_set))\n",
        "\n",
        "  # convert text sequences into integer sequences\n",
        "  train_set = tokenizer.texts_to_sequences(train_set) \n",
        "  test_set = tokenizer.texts_to_sequences(test_set)\n",
        "\n",
        "  # padding zero up to maximum length\n",
        "  train_set = pad_sequences(train_set, maxlen=string_length, padding='post') \n",
        "  test_set = pad_sequences(test_set, maxlen=string_length, padding='post')\n",
        "\n",
        "  # get vector size\n",
        "  vocab_size = tokenizer.num_words+1\n",
        "\n",
        "  return tokenizer, train_set, test_set, vocab_size\n",
        "\n",
        "abs_tokenizer, abs_tr, abs_te, abs_size = tokenize_text(abs_tr, abs_te, MAX_ABSTRACT_LEN, 3)\n",
        "ttl_tokenizer, ttl_tr, ttl_te, ttl_size = tokenize_text(ttl_tr, ttl_te, MAX_TITLE_LEN, 6)"
      ]
    },
    {
      "cell_type": "markdown",
      "metadata": {
        "id": "Pe2geEa1z6MF"
      },
      "source": [
        "### Remove Empty Texts"
      ]
    },
    {
      "cell_type": "code",
      "execution_count": 37,
      "metadata": {
        "colab": {
          "base_uri": "https://localhost:8080/"
        },
        "id": "wMv2K_Hmz6MG",
        "outputId": "4c3e01f5-a5ef-4cf4-d952-1c77e2082507"
      },
      "outputs": [
        {
          "name": "stdout",
          "output_type": "stream",
          "text": [
            "removed 72 empty texts.\n",
            "removed 0 empty texts.\n"
          ]
        }
      ],
      "source": [
        "# Function for removing strings with no text\n",
        "def remove_empty_text(abstract, title):\n",
        "  indices = []\n",
        "  for i in range(len(ttl_tr)):\n",
        "    cnt = 0\n",
        "    for j in ttl_tr[i]:\n",
        "      if j!=0:\n",
        "        cnt=cnt+1\n",
        "    if (cnt == 2):\n",
        "      indices.append(i)\n",
        "\n",
        "  abstract = np.delete(abs_tr, indices, axis=0)\n",
        "  title = np.delete(ttl_tr, indices, axis=0)\n",
        "  print(f\"removed {len(indices)} empty texts.\")\n",
        "\n",
        "  return abstract, title\n",
        "\n",
        "abs_tr, ttl_tr = remove_empty_text(abs_tr, ttl_tr)\n",
        "abs_te, ttl_te = remove_empty_text(abs_te, ttl_te)"
      ]
    },
    {
      "cell_type": "markdown",
      "metadata": {
        "id": "7TaFaS9iOyA5"
      },
      "source": [
        "## Build LSTM Model"
      ]
    },
    {
      "cell_type": "code",
      "execution_count": 38,
      "metadata": {
        "id": "xO7ewBahz6MH"
      },
      "outputs": [
        {
          "name": "stdout",
          "output_type": "stream",
          "text": [
            "WARNING:tensorflow:Layer lstm will not use cuDNN kernels since it doesn't meet the criteria. It will use a generic GPU kernel as fallback when running on GPU.\n",
            "WARNING:tensorflow:Layer lstm_1 will not use cuDNN kernels since it doesn't meet the criteria. It will use a generic GPU kernel as fallback when running on GPU.\n",
            "WARNING:tensorflow:Layer lstm_2 will not use cuDNN kernels since it doesn't meet the criteria. It will use a generic GPU kernel as fallback when running on GPU.\n",
            "WARNING:tensorflow:Layer lstm_3 will not use cuDNN kernels since it doesn't meet the criteria. It will use a generic GPU kernel as fallback when running on GPU.\n",
            "Model: \"model\"\n",
            "__________________________________________________________________________________________________\n",
            " Layer (type)                   Output Shape         Param #     Connected to                     \n",
            "==================================================================================================\n",
            " input_1 (InputLayer)           [(None, 30)]         0           []                               \n",
            "                                                                                                  \n",
            " embedding (Embedding)          (None, 30, 100)      9600        ['input_1[0][0]']                \n",
            "                                                                                                  \n",
            " lstm (LSTM)                    [(None, 30, 300),    481200      ['embedding[0][0]']              \n",
            "                                 (None, 300),                                                     \n",
            "                                 (None, 300)]                                                     \n",
            "                                                                                                  \n",
            " input_2 (InputLayer)           [(None, None)]       0           []                               \n",
            "                                                                                                  \n",
            " lstm_1 (LSTM)                  [(None, 30, 300),    721200      ['lstm[0][0]']                   \n",
            "                                 (None, 300),                                                     \n",
            "                                 (None, 300)]                                                     \n",
            "                                                                                                  \n",
            " embedding_1 (Embedding)        (None, None, 100)    800         ['input_2[0][0]']                \n",
            "                                                                                                  \n",
            " lstm_2 (LSTM)                  [(None, 30, 300),    721200      ['lstm_1[0][0]']                 \n",
            "                                 (None, 300),                                                     \n",
            "                                 (None, 300)]                                                     \n",
            "                                                                                                  \n",
            " lstm_3 (LSTM)                  [(None, None, 300),  481200      ['embedding_1[0][0]',            \n",
            "                                 (None, 300),                     'lstm_2[0][1]',                 \n",
            "                                 (None, 300)]                     'lstm_2[0][2]']                 \n",
            "                                                                                                  \n",
            " additive_attention (AdditiveAt  (None, None, 300)   300         ['lstm_3[0][0]',                 \n",
            " tention)                                                         'lstm_2[0][0]']                 \n",
            "                                                                                                  \n",
            " concatenate (Concatenate)      (None, None, 600)    0           ['lstm_3[0][0]',                 \n",
            "                                                                  'additive_attention[0][0]']     \n",
            "                                                                                                  \n",
            " time_distributed (TimeDistribu  (None, None, 8)     4808        ['concatenate[0][0]']            \n",
            " ted)                                                                                             \n",
            "                                                                                                  \n",
            "==================================================================================================\n",
            "Total params: 2,420,308\n",
            "Trainable params: 2,420,308\n",
            "Non-trainable params: 0\n",
            "__________________________________________________________________________________________________\n"
          ]
        }
      ],
      "source": [
        "tf.keras.backend.clear_session() \n",
        "\n",
        "# input layer\n",
        "encoder_inputs = tf.keras.layers.Input(shape=(MAX_ABSTRACT_LEN,))\n",
        "\n",
        "# embedding layer\n",
        "enc_emb =  tf.keras.layers.Embedding(abs_size, \n",
        "                                     EMBEDDING_DIMENSION, \n",
        "                                     trainable=True)(encoder_inputs)\n",
        "\n",
        "# encoder lstm 1\n",
        "encoder_lstm1 = tf.keras.layers.LSTM(LATENT_DIMENSION, \n",
        "                                     return_sequences=True, \n",
        "                                     return_state=True, \n",
        "                                     dropout=0.4, \n",
        "                                     recurrent_dropout=0.4)\n",
        "encoder_output1, state_h1, state_c1 = encoder_lstm1(enc_emb)\n",
        "\n",
        "# encoder lstm 2\n",
        "encoder_lstm2 = tf.keras.layers.LSTM(LATENT_DIMENSION,\n",
        "                                     return_sequences=True,\n",
        "                                     return_state=True,\n",
        "                                     dropout=0.4,\n",
        "                                     recurrent_dropout=0.4)\n",
        "encoder_output2, state_h2, state_c2 = encoder_lstm2(encoder_output1)\n",
        "\n",
        "# encoder lstm 3\n",
        "encoder_lstm3 = tf.keras.layers.LSTM(LATENT_DIMENSION, \n",
        "                                     return_state=True, \n",
        "                                     return_sequences=True,\n",
        "                                     dropout=0.4,\n",
        "                                     recurrent_dropout=0.4)\n",
        "encoder_outputs, state_h, state_c= encoder_lstm3(encoder_output2)\n",
        "\n",
        "# set up the decoder, using `encoder_states` as initial state.\n",
        "decoder_inputs = tf.keras.layers.Input(shape=(None,))\n",
        "\n",
        "# embedding layer\n",
        "dec_emb_layer = tf.keras.layers.Embedding(ttl_size, \n",
        "                                          EMBEDDING_DIMENSION, \n",
        "                                          trainable=True)\n",
        "dec_emb = dec_emb_layer(decoder_inputs)\n",
        "\n",
        "# decoder lstm\n",
        "decoder_lstm = tf.keras.layers.LSTM(LATENT_DIMENSION, \n",
        "                                    return_sequences=True, \n",
        "                                    return_state=True,\n",
        "                                    dropout=0.4,\n",
        "                                    recurrent_dropout=0.2)\n",
        "decoder_outputs, decoder_fwd_state, decoder_back_state = decoder_lstm(dec_emb,\n",
        "                                                                     initial_state=[state_h, state_c])\n",
        "\n",
        "# attention layer\n",
        "attn_layer = tf.keras.layers.AdditiveAttention()\n",
        "attn_out = attn_layer([decoder_outputs, encoder_outputs])\n",
        "\n",
        "# concat attention input and decoder LSTM output\n",
        "decoder_concat_input = tf.keras.layers.Concatenate()([decoder_outputs, attn_out])\n",
        "\n",
        "# dense layer\n",
        "decoder_dense = tf.keras.layers.TimeDistributed(tf.keras.layers.Dense(ttl_size, activation='softmax'))\n",
        "decoder_outputs = decoder_dense(decoder_concat_input)\n",
        "\n",
        "# define the model \n",
        "model = tf.keras.models.Model([encoder_inputs, decoder_inputs], decoder_outputs)\n",
        "\n",
        "model.summary() "
      ]
    },
    {
      "cell_type": "markdown",
      "metadata": {
        "id": "2E4k41J3OyA7"
      },
      "source": [
        "### Train the Model"
      ]
    },
    {
      "cell_type": "code",
      "execution_count": 39,
      "metadata": {
        "id": "gTQyN3I7OyA8"
      },
      "outputs": [
        {
          "name": "stdout",
          "output_type": "stream",
          "text": [
            "Epoch 1/2\n"
          ]
        },
        {
          "name": "stderr",
          "output_type": "stream",
          "text": [
            "2022-12-16 16:09:30.716753: W tensorflow/core/platform/profile_utils/cpu_utils.cc:128] Failed to get CPU frequency: 0 Hz\n",
            "2022-12-16 16:09:34.806839: I tensorflow/core/grappler/optimizers/custom_graph_optimizer_registry.cc:114] Plugin optimizer for device_type GPU is enabled.\n"
          ]
        },
        {
          "name": "stdout",
          "output_type": "stream",
          "text": [
            "1/1 [==============================] - ETA: 0s - loss: 2.0851"
          ]
        },
        {
          "name": "stderr",
          "output_type": "stream",
          "text": [
            "2022-12-16 16:09:49.007699: I tensorflow/core/grappler/optimizers/custom_graph_optimizer_registry.cc:114] Plugin optimizer for device_type GPU is enabled.\n"
          ]
        },
        {
          "name": "stdout",
          "output_type": "stream",
          "text": [
            "1/1 [==============================] - 19s 19s/step - loss: 2.0851 - val_loss: 1.7587\n",
            "Epoch 2/2\n",
            "1/1 [==============================] - 8s 8s/step - loss: 1.6976 - val_loss: 1.3839\n"
          ]
        }
      ],
      "source": [
        "# initialize model\n",
        "model.compile(optimizer='rmsprop', loss='sparse_categorical_crossentropy')\n",
        "\n",
        "# train model\n",
        "history = model.fit([abs_tr, ttl_tr[:,:-1]], ttl_tr.reshape(ttl_tr.shape[0], ttl_tr.shape[1], 1)[:,1:],\n",
        "                    epochs=EPOCH,\n",
        "                    batch_size=BATCH_SIZE,\n",
        "                    validation_data=([abs_te,ttl_te[:,:-1]], ttl_te.reshape(ttl_te.shape[0], ttl_te.shape[1], 1)[:,1:]))"
      ]
    },
    {
      "cell_type": "markdown",
      "metadata": {
        "id": "_7Lej6Mqz6MJ"
      },
      "source": [
        "### Inspect Training Validation Loss"
      ]
    },
    {
      "cell_type": "code",
      "execution_count": 40,
      "metadata": {
        "id": "3lE4zW5Mz6MK"
      },
      "outputs": [
        {
          "data": {
            "image/png": "[encoded data removed]",
            "text/plain": [
              "<Figure size 640x480 with 1 Axes>"
            ]
          },
          "metadata": {},
          "output_type": "display_data"
        }
      ],
      "source": [
        "plt.plot(history.history['loss'], label='train')\n",
        "plt.plot(history.history['val_loss'], label='test')\n",
        "plt.legend()\n",
        "plt.show()"
      ]
    },
    {
      "cell_type": "markdown",
      "metadata": {
        "id": "Acs8_kXXz6ML"
      },
      "source": [
        "### Vec2Word Dictionary"
      ]
    },
    {
      "cell_type": "code",
      "execution_count": 41,
      "metadata": {
        "id": "0tnzNDkVz6ML"
      },
      "outputs": [],
      "source": [
        "# grab the dictionaries to convert token ids back to string texts\n",
        "reverse_target_word_index = ttl_tokenizer.index_word \n",
        "reverse_source_word_index = abs_tokenizer.index_word \n",
        "target_word_index = ttl_tokenizer.word_index"
      ]
    },
    {
      "cell_type": "markdown",
      "metadata": {
        "id": "-Dq56cHlz6ML"
      },
      "source": [
        "## Build Inference Model"
      ]
    },
    {
      "cell_type": "code",
      "execution_count": 42,
      "metadata": {
        "id": "YxSK6leDz6MM"
      },
      "outputs": [],
      "source": [
        "# encode the input sequence to get the feature vector\n",
        "encoder_model = tf.keras.models.Model(inputs=encoder_inputs,\n",
        "                                      outputs=[encoder_outputs, state_h, state_c])\n",
        "\n",
        "# decoder setup\n",
        "# below tensors will hold the states of the previous time step\n",
        "decoder_state_input_h = tf.keras.layers.Input(shape=(LATENT_DIMENSION,))\n",
        "decoder_state_input_c = tf.keras.layers.Input(shape=(LATENT_DIMENSION,))\n",
        "decoder_hidden_state_input = tf.keras.layers.Input(shape=(MAX_ABSTRACT_LEN, LATENT_DIMENSION))\n",
        "\n",
        "# get the embeddings of the decoder sequence\n",
        "dec_emb2= dec_emb_layer(decoder_inputs)\n",
        "\n",
        "# to predict the next word in the sequence, set the initial states to the states from the previous time step\n",
        "decoder_outputs2, state_h2, state_c2 = decoder_lstm(dec_emb2, initial_state=[decoder_state_input_h, decoder_state_input_c])\n",
        "\n",
        "# attention inference\n",
        "attn_out_inf = attn_layer([decoder_outputs2, decoder_hidden_state_input])\n",
        "decoder_inf_concat = tf.keras.layers.Concatenate()([decoder_outputs2, attn_out_inf])\n",
        "\n",
        "# a dense softmax layer to generate prob dist. over the target vocabulary\n",
        "decoder_outputs2 = decoder_dense(decoder_inf_concat)\n",
        "\n",
        "# final decoder model\n",
        "decoder_model = tf.keras.models.Model([decoder_inputs] + [decoder_hidden_state_input,decoder_state_input_h, decoder_state_input_c],\n",
        "                                      [decoder_outputs2] + [state_h2, state_c2])"
      ]
    },
    {
      "cell_type": "markdown",
      "metadata": {
        "id": "RjtmZQRCz6MM"
      },
      "source": [
        "### Decode Inference Output Function"
      ]
    },
    {
      "cell_type": "code",
      "execution_count": 51,
      "metadata": {
        "id": "VjJMsmPNz6MM"
      },
      "outputs": [],
      "source": [
        "# Function to decode the output of the decoder model\n",
        "def decode_sequence(input_seq):\n",
        "  # encode the input as state vectors.\n",
        "  e_out, e_h, e_c = encoder_model.predict(input_seq, verbose=0)\n",
        "\n",
        "  # generate empty target sequence of length 1.\n",
        "  target_seq = np.zeros((1,1))\n",
        "\n",
        "  # populate the first word of target sequence with the start word.\n",
        "  target_seq[0, 0] = target_word_index['sostok']\n",
        "\n",
        "  # loop through the decoder model's outputs and build the output sentence\n",
        "  stop_condition = False\n",
        "  decoded_sentence = ''\n",
        "  while not stop_condition:\n",
        "        \n",
        "    # grab decoder model output tokens and internal states\n",
        "    output_tokens, h, c = decoder_model.predict([target_seq] + [e_out, e_h, e_c], verbose=0)\n",
        "        \n",
        "    # convert token back to associated string text\n",
        "    sampled_token_index = np.argmax(output_tokens[0, -1, :])\n",
        "    sampled_token = reverse_target_word_index[sampled_token_index]\n",
        "\n",
        "    # remove NER tag if necessary\n",
        "    sampled_token = re.sub('<[^>]+>', '', sampled_token)\n",
        "\n",
        "    # if the token is not the end token, then add token to the output sentence\n",
        "    if (sampled_token != 'eostok'):\n",
        "      decoded_sentence += ' ' + sampled_token\n",
        "\n",
        "    # exit condition: either hit max length or find stop word.\n",
        "    if (sampled_token == 'eostok' or len(decoded_sentence.split()) >= (MAX_TITLE_LEN-1)):\n",
        "      stop_condition = True\n",
        "\n",
        "    # update the target sequence (of length 1).\n",
        "    target_seq = np.zeros((1,1))\n",
        "    target_seq[0, 0] = sampled_token_index\n",
        "\n",
        "    # update internal states\n",
        "    e_h, e_c = h, c\n",
        "\n",
        "  return decoded_sentence"
      ]
    },
    {
      "cell_type": "markdown",
      "metadata": {
        "id": "1SIhUu2dz6MN"
      },
      "source": [
        "### Seq2Abstract and Seq2Title Function"
      ]
    },
    {
      "cell_type": "code",
      "execution_count": 52,
      "metadata": {
        "id": "QveGVxz9z6MN"
      },
      "outputs": [],
      "source": [
        "# Convert the abstract token id sequence back to string representation\n",
        "def seq2abstract(input_seq):\n",
        "  newString = ''\n",
        "  for i in input_seq:\n",
        "    if (i != 0):\n",
        "      newString = newString + reverse_source_word_index[i] + ' '\n",
        "  return newString\n",
        "\n",
        "# Convert the title token id sequence back to string representation\n",
        "def seq2title(input_seq):\n",
        "  newString = ''\n",
        "  for i in input_seq:\n",
        "    if (i != 0 and i != target_word_index['sostok']) and (i != target_word_index['eostok']):\n",
        "      newString = newString + re.sub('<[^>]+>', '', reverse_target_word_index[i]) + ' '\n",
        "  return newString"
      ]
    },
    {
      "cell_type": "markdown",
      "metadata": {
        "id": "3LVgjjUYz6MN"
      },
      "source": [
        "## Testing Model\n",
        "### BLEU and ROUGE Evaluation Function"
      ]
    },
    {
      "cell_type": "code",
      "execution_count": 53,
      "metadata": {
        "id": "ORcCKvAsz6MO"
      },
      "outputs": [],
      "source": [
        "rouge_metric = Rouge()\n",
        "\n",
        "# Evaluation Metric Function; F1 Score with ROUGE and BLEU\n",
        "def evaluate_title(predicted_ttl, original_ttl):\n",
        "  # Note: prediction and original titles both need to be string sentences\n",
        "  f1_score = 0.0\n",
        "  # get BLEU score\n",
        "  bleu_result = (sentence_bleu(hypothesis=predicted_ttl, references=[original_ttl], smooth_method='exp'))\n",
        "  bleu_score = bleu_result.score/100 # sacreBLEU gives the score in percent\n",
        "\n",
        "  # get ROUGE scores\n",
        "  rouge_result = rouge_metric.get_scores(hyps=predicted_ttl, refs=original_ttl)\n",
        "  rouge_l_score = rouge_result[0][\"rouge-l\"][\"f\"]\n",
        "  rouge_1_score = rouge_result[0][\"rouge-1\"][\"f\"]\n",
        "  rouge_2_score = rouge_result[0][\"rouge-2\"][\"f\"]\n",
        "\n",
        "  # check if bleu or rouge-l score are 0\n",
        "  if (bleu_score == 0.0) or (rouge_l_score == 0.0):\n",
        "    # if so, f1 score is 0\n",
        "    f1_score = 0.0\n",
        "  else:\n",
        "    f1_score = (2.0 * bleu_score * rouge_l_score) / (bleu_score + rouge_l_score)\n",
        "\n",
        "  # get scores\n",
        "  return (f1_score, bleu_score, rouge_l_score, rouge_1_score, rouge_2_score)"
      ]
    },
    {
      "cell_type": "markdown",
      "metadata": {
        "id": "sKIXRxX3z6MP"
      },
      "source": [
        "### Print Predictions"
      ]
    },
    {
      "cell_type": "code",
      "execution_count": null,
      "metadata": {
        "id": "pGDBU65gz6MP"
      },
      "outputs": [],
      "source": [
        "# Keep track of total F1 score to average at the end\n",
        "total_f1 = 0.0\n",
        "total_bleu = 0.0\n",
        "total_rouge_l = 0.0\n",
        "total_rouge_1 = 0.0\n",
        "total_rouge_2 = 0.0\n",
        "\n",
        "# results_df = pd.DataFrame()\n",
        "# results_df['original_abstract'] = abs_te.tolist()\n",
        "# results_df['original_title'] = ttl_te.tolist()\n",
        "# results_df['original_title'] = results_df['original_title'].apply(lambda row: seq2title(row))\n",
        "# results_df['predicted_title'] = results_df['original_abstract'].apply(lambda row: decode_sequence(np.array(row).reshape(1, MAX_ABSTRACT_LEN)))\n",
        "# results_df['f1_scores'] = results_df.apply(lambda row: evaluate_title(row['predicted_title'], row['original_title']), axis=1)\n",
        "\n",
        "# Loop over all test set data and calculate F1 score for each prediction\n",
        "# for i in range(len(abs_te)):\n",
        "for i in range(5):\n",
        "  if i % 10 == 0: print(f\"i = {i}\")\n",
        "\n",
        "  original_title = seq2title(ttl_te[i])\n",
        "\n",
        "  prediction_title = decode_sequence(abs_te[i].reshape(1, MAX_ABSTRACT_LEN))\n",
        "  # print(\"Abstract:\", seq2abstract(abs_te[i]))\n",
        "  # print(\"Original Title:\", original_title)\n",
        "  # print(\"Predicted Title:\", prediction_title)\n",
        "\n",
        "  # Skip bad predictions\n",
        "  if prediction_title == \"\" or prediction_title == None: \n",
        "    print(\"Skipping bad prediction...\")\n",
        "    continue\n",
        "\n",
        "  # Generate F1 score for current prediction\n",
        "  f1_score, bleu_score, rouge_l_score, rouge_1_score, rouge_2_score = evaluate_title(prediction_title, original_title)\n",
        "\n",
        "  # Add to total F1\n",
        "  total_f1 += f1_score\n",
        "  total_bleu += bleu_score\n",
        "  total_rouge_l += rouge_l_score\n",
        "  total_rouge_1 += rouge_1_score\n",
        "  total_rouge_2 += rouge_2_score\n",
        "\n",
        "#   if i <= 10:\n",
        "#     print(\"Abstract:\", seq2abstract(abs_te[i]))\n",
        "#     print(\"Original Title:\", original_title)\n",
        "#     print(\"Predicted Title:\", prediction_title)\n",
        "#     print(\"F1 Score:\", f1_score)\n",
        "#     print(\"\\n\")\n",
        "\n",
        "# results_df.to_csv(\"outputs/results.csv\")\n",
        "avg_f1 = total_f1\n",
        "avg_bleu = total_bleu\n",
        "avg_rouge_l = total_rouge_l\n",
        "avg_rouge_1 = total_rouge_1\n",
        "avg_rouge_2 = total_rouge_2\n",
        "\n",
        "print(\"Avg F1 Score:\", avg_f1)\n",
        "print(\"Avg BLEU Score:\", avg_bleu)\n",
        "print(\"Avg ROUGE-L Score:\", avg_rouge_l)\n",
        "print(\"Avg ROUGE-1 Score:\", avg_rouge_1)\n",
        "print(\"Avg ROUGE-2 Score:\", avg_rouge_2)"
      ]
    },
    {
      "cell_type": "code",
      "execution_count": null,
      "metadata": {
        "id": "IkZnnlCEBrBF"
      },
      "outputs": [],
      "source": [
        "cleaned_data.to_csv(\"output/cleaned_data.csv\")"
      ]
    }
  ],
  "metadata": {
    "accelerator": "GPU",
    "colab": {
      "provenance": []
    },
    "gpuClass": "standard",
    "kernelspec": {
      "display_name": "Python 3",
      "language": "python",
      "name": "python3"
    },
    "language_info": {
      "codemirror_mode": {
        "name": "ipython",
        "version": 3
      },
      "file_extension": ".py",
      "mimetype": "text/x-python",
      "name": "python",
      "nbconvert_exporter": "python",
      "pygments_lexer": "ipython3",
      "version": "3.9.1 (default, Mar  9 2022, 16:29:28) \n[Clang 13.0.0 (clang-1300.0.27.3)]"
    },
    "vscode": {
      "interpreter": {
        "hash": "55827584c9f2e18e7af3c3bb18834a7a9055c57ce49ebfcd02e392412ec100af"
      }
    }
  },
  "nbformat": 4,
  "nbformat_minor": 0
}
